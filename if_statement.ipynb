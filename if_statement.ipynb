{
  "nbformat": 4,
  "nbformat_minor": 0,
  "metadata": {
    "colab": {
      "provenance": []
    },
    "kernelspec": {
      "name": "python3",
      "display_name": "Python 3"
    },
    "language_info": {
      "name": "python"
    }
  },
  "cells": [
    {
      "cell_type": "code",
      "execution_count": 4,
      "metadata": {
        "colab": {
          "base_uri": "https://localhost:8080/"
        },
        "id": "COFs-vtECEmb",
        "outputId": "a7147289-864a-4c26-e22e-d8e9a85eb217"
      },
      "outputs": [
        {
          "output_type": "stream",
          "name": "stdout",
          "text": [
            "what is your gender(M/F): f\n",
            "Female\n",
            "Type of car(sports/non sports)sports\n",
            "Sports car\n",
            "what is the market price of your car?2500000\n",
            "Ensurance offer: 525000.0\n"
          ]
        }
      ],
      "source": [
        "Gender=input(\"what is your gender(M/F): \")\n",
        "Gender=Gender.upper()\n",
        "\n",
        "if Gender==\"M\":\n",
        "  print(\"Male\")\n",
        "  Age=input(\"Enter your age?\")\n",
        "  Age=int(Age)\n",
        "  if Age<=26:\n",
        "    print(\"Less/equal to 26\")\n",
        "    percentage=23\n",
        "  else:\n",
        "    print(\"More than 26\")\n",
        "    percentage=9\n",
        "\n",
        "elif Gender==\"F\":\n",
        "  print(\"Female\")\n",
        "  Car_type=input(\"Type of car(sports/non sports)\")\n",
        "  Car_type=Car_type.upper()\n",
        "  if Car_type==\"SPORTS\":\n",
        "    print(\"Sports car\")\n",
        "    percentage=21\n",
        "  else:\n",
        "    print(\"Non Sports car\")\n",
        "    percentage=10\n",
        "else:\n",
        "  print(\"wrong format\")\n",
        "  percentage=None\n",
        "\n",
        "\n",
        "\n",
        "market_price=input(\"what is the market price of your car?\")\n",
        "market_price=int(market_price)\n",
        "\n",
        "ensurance_offer=market_price*percentage/100\n",
        "\n",
        "print(f\"Ensurance offer: {ensurance_offer}\")\n",
        "\n",
        "\n"
      ]
    },
    {
      "cell_type": "code",
      "source": [],
      "metadata": {
        "id": "RAj3XIF1C0z4"
      },
      "execution_count": 4,
      "outputs": []
    }
  ]
}